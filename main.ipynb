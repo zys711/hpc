{
 "cells": [
  {
   "cell_type": "markdown",
   "source": [
    "# Assignment 1"
   ],
   "metadata": {}
  },
  {
   "cell_type": "code",
   "execution_count": 1,
   "source": [
    "import numpy as np\r\n",
    "from matplotlib import pyplot as plt\r\n",
    "import numba\r\n",
    "%matplotlib inline"
   ],
   "outputs": [],
   "metadata": {}
  },
  {
   "cell_type": "markdown",
   "source": [
    "##  standard Python function"
   ],
   "metadata": {}
  },
  {
   "cell_type": "code",
   "execution_count": 2,
   "source": [
    "def diffusion_iteration(un,f):\r\n",
    "\r\n",
    "    N = un.shape[0] - 2\r\n",
    "    result = np.zeros((N + 2, N + 2), dtype=np.float64)\r\n",
    "    \r\n",
    "    for i in range(1, N + 1):\r\n",
    "        for j in range(1, N + 1):\r\n",
    "            result[i, j] = (f[i,j]+un[i + 1, j] + un[i - 1, j] + un[i, j + 1] + un[i, j - 1]) / 4\r\n",
    "    \r\n",
    "    return result"
   ],
   "outputs": [],
   "metadata": {}
  },
  {
   "cell_type": "markdown",
   "source": [
    "##  Numba accelerated function"
   ],
   "metadata": {}
  },
  {
   "cell_type": "code",
   "execution_count": 3,
   "source": [
    "@numba.njit\r\n",
    "def diffusion_iteration_numba(un,f):\r\n",
    "    \r\n",
    "    N = un.shape[0] - 2\r\n",
    "    result = np.zeros((N + 2, N + 2), dtype=np.float64)\r\n",
    "    \r\n",
    "    for i in range(1, N + 1):\r\n",
    "        for j in range(1, N + 1):\r\n",
    "            result[i, j] = (f[i,j]+un[i + 1, j] + un[i - 1, j] + un[i, j + 1] + un[i, j - 1]) / 4\r\n",
    "    \r\n",
    "    return result"
   ],
   "outputs": [],
   "metadata": {}
  },
  {
   "cell_type": "markdown",
   "source": [
    "## parallel Numba"
   ],
   "metadata": {}
  },
  {
   "cell_type": "code",
   "execution_count": 4,
   "source": [
    "@numba.njit(['float64[:,:](float64[:,:],float64[:,:])'],parallel=True)\r\n",
    "def diffusion_iteration_numba_p(un,f):\r\n",
    "    \r\n",
    "    N = un.shape[0] - 2\r\n",
    "    result = np.zeros((N + 2, N + 2), dtype=np.float64)\r\n",
    "    \r\n",
    "    for i in numba.prange(1, N + 1):\r\n",
    "        for j in range(1, N + 1):\r\n",
    "            result[i, j] = (f[i,j]+un[i + 1, j] + un[i - 1, j] + un[i, j + 1] + un[i, j - 1]) / 4\r\n",
    "    \r\n",
    "    return result"
   ],
   "outputs": [],
   "metadata": {}
  },
  {
   "cell_type": "markdown",
   "source": [
    "## benchmark function"
   ],
   "metadata": {}
  },
  {
   "cell_type": "code",
   "execution_count": 5,
   "source": [
    "def benchmark(nvals,func):\r\n",
    "    \"\"\"Benchmark the diffusion iteration.\"\"\"\r\n",
    "    \r\n",
    "    times = []\r\n",
    "    \r\n",
    "    for N in nvals:\r\n",
    "        u = np.random.randn(N + 2, N + 2)\r\n",
    "        f = np.random.randn(N + 2, N + 2)\r\n",
    "        if func=='py':\r\n",
    "            t = %timeit -o diffusion_iteration(u,f)\r\n",
    "        elif func=='numba':\r\n",
    "            t = %timeit -o diffusion_iteration_numba(u,f)\r\n",
    "        elif func=='p':\r\n",
    "            t = %timeit -o diffusion_iteration_numba_p(u,f)\r\n",
    "        times.append(t.average)\r\n",
    "\r\n",
    "    plt.figure()\r\n",
    "    plt.plot(nvals, times, 'r-x', markersize=2)\r\n",
    "    plt.xlabel('N')\r\n",
    "    plt.ylabel('time [s]')"
   ],
   "outputs": [],
   "metadata": {}
  },
  {
   "cell_type": "markdown",
   "source": [
    "## benchmark of standard python"
   ],
   "metadata": {}
  },
  {
   "cell_type": "code",
   "execution_count": 7,
   "source": [
    "N = 100\r\n",
    "nsteps = 200\r\n",
    "\r\n",
    "u = np.zeros((N + 2, N + 2), dtype='float64')\r\n",
    "f = np.ones((N + 2, N + 2), dtype='float64')\r\n",
    "u[:, 0] = u[:, N + 1] = u[0, :] = 1\r\n",
    "\r\n",
    "for i in range(nsteps):\r\n",
    "    u = diffusion_iteration(u,f)\r\n",
    "\r\n",
    "nvals = range(10, 101, 10)\r\n",
    "benchmark(nvals,'py')"
   ],
   "outputs": [
    {
     "output_type": "stream",
     "name": "stdout",
     "text": [
      "167 µs ± 8.54 µs per loop (mean ± std. dev. of 7 runs, 10000 loops each)\n",
      "624 µs ± 21.5 µs per loop (mean ± std. dev. of 7 runs, 1000 loops each)\n",
      "1.41 ms ± 50.1 µs per loop (mean ± std. dev. of 7 runs, 1000 loops each)\n",
      "2.43 ms ± 52.9 µs per loop (mean ± std. dev. of 7 runs, 100 loops each)\n",
      "3.84 ms ± 32.8 µs per loop (mean ± std. dev. of 7 runs, 100 loops each)\n",
      "5.51 ms ± 64.6 µs per loop (mean ± std. dev. of 7 runs, 100 loops each)\n",
      "7.66 ms ± 221 µs per loop (mean ± std. dev. of 7 runs, 100 loops each)\n",
      "9.87 ms ± 111 µs per loop (mean ± std. dev. of 7 runs, 100 loops each)\n",
      "12.5 ms ± 258 µs per loop (mean ± std. dev. of 7 runs, 100 loops each)\n",
      "14.5 ms ± 96.8 µs per loop (mean ± std. dev. of 7 runs, 100 loops each)\n"
     ]
    },
    {
     "output_type": "display_data",
     "data": {
      "image/png": "[encoded data removed]",
      "text/plain": [
       "<Figure size 432x288 with 1 Axes>"
      ]
     },
     "metadata": {
      "needs_background": "light"
     }
    }
   ],
   "metadata": {}
  },
  {
   "cell_type": "markdown",
   "source": [
    "## benchmark of numba version"
   ],
   "metadata": {}
  },
  {
   "cell_type": "code",
   "execution_count": 8,
   "source": [
    "nvals=[100, 1000, 5000, 10000]"
   ],
   "outputs": [],
   "metadata": {}
  },
  {
   "cell_type": "code",
   "execution_count": 9,
   "source": [
    "benchmark(nvals,'numba')"
   ],
   "outputs": [
    {
     "output_type": "stream",
     "name": "stdout",
     "text": [
      "7.84 µs ± 122 ns per loop (mean ± std. dev. of 7 runs, 100000 loops each)\n",
      "3.6 ms ± 314 µs per loop (mean ± std. dev. of 7 runs, 100 loops each)\n",
      "81.4 ms ± 1.73 ms per loop (mean ± std. dev. of 7 runs, 10 loops each)\n",
      "389 ms ± 38.8 ms per loop (mean ± std. dev. of 7 runs, 1 loop each)\n"
     ]
    },
    {
     "output_type": "display_data",
     "data": {
      "image/png": "[encoded data removed]",
      "text/plain": [
       "<Figure size 432x288 with 1 Axes>"
      ]
     },
     "metadata": {
      "needs_background": "light"
     }
    }
   ],
   "metadata": {}
  },
  {
   "cell_type": "markdown",
   "source": [
    "### we can see when n=100 the numba version(7.84 µs) is much faster than the standard python(14.5 ms)."
   ],
   "metadata": {}
  },
  {
   "cell_type": "markdown",
   "source": [
    "## benchmark of parallel version"
   ],
   "metadata": {}
  },
  {
   "cell_type": "code",
   "execution_count": 10,
   "source": [
    "benchmark(nvals,'p')"
   ],
   "outputs": [
    {
     "output_type": "stream",
     "name": "stdout",
     "text": [
      "50.7 µs ± 3.68 µs per loop (mean ± std. dev. of 7 runs, 10000 loops each)\n",
      "2.81 ms ± 40 µs per loop (mean ± std. dev. of 7 runs, 100 loops each)\n",
      "77 ms ± 3.7 ms per loop (mean ± std. dev. of 7 runs, 10 loops each)\n",
      "284 ms ± 13.6 ms per loop (mean ± std. dev. of 7 runs, 1 loop each)\n"
     ]
    },
    {
     "output_type": "display_data",
     "data": {
      "image/png": "[encoded data removed]",
      "text/plain": [
       "<Figure size 432x288 with 1 Axes>"
      ]
     },
     "metadata": {
      "needs_background": "light"
     }
    }
   ],
   "metadata": {}
  },
  {
   "cell_type": "code",
   "execution_count": 11,
   "source": [
    "import os\r\n",
    "os.cpu_count()"
   ],
   "outputs": [
    {
     "output_type": "execute_result",
     "data": {
      "text/plain": [
       "16"
      ]
     },
     "metadata": {},
     "execution_count": 11
    }
   ],
   "metadata": {}
  },
  {
   "cell_type": "markdown",
   "source": [
    "### we can see that for N=100 the parallel version is slower than the normal numba version, because the parallelisation has overhead. If there is not enough work to do then this overhead will slow everything down. And as N increases, the parallel version performs better than the Numba version, but it is only 1.5 times faster when N=10000. Theoretically, the improvement can be 16 times faster because my laptop has 16 cores. One reason is that the computation is actually held back by memory accesses and less by actual compute performance."
   ],
   "metadata": {}
  },
  {
   "cell_type": "markdown",
   "source": [
    "## Convergence"
   ],
   "metadata": {}
  },
  {
   "cell_type": "code",
   "execution_count": 38,
   "source": [
    "N=100\r\n",
    "un = np.random.randn(N + 2, N + 2)\r\n",
    "f = np.ones((N + 2, N + 2), dtype='float64')\r\n",
    "error=[]\r\n",
    "for i in range(1000):\r\n",
    "    un_=un.copy()\r\n",
    "    un=diffusion_iteration_numba_p(un,f)\r\n",
    "    rel_error = np.linalg.norm(un_ - un, np.inf) / np.linalg.norm(un, np.inf)\r\n",
    "    error.append(rel_error)\r\n",
    "\r\n",
    "un1=un.copy()\r\n",
    "plt.plot(error)"
   ],
   "outputs": [
    {
     "output_type": "execute_result",
     "data": {
      "text/plain": [
       "[<matplotlib.lines.Line2D at 0x1e092b6da30>]"
      ]
     },
     "metadata": {},
     "execution_count": 38
    },
    {
     "output_type": "display_data",
     "data": {
      "image/png": "[encoded data removed]",
      "text/plain": [
       "<Figure size 432x288 with 1 Axes>"
      ]
     },
     "metadata": {
      "needs_background": "light"
     }
    }
   ],
   "metadata": {}
  },
  {
   "cell_type": "code",
   "execution_count": 39,
   "source": [
    "un = np.ones((N + 2, N + 2), dtype='float64')\r\n",
    "f = np.ones((N + 2, N + 2), dtype='float64')\r\n",
    "error=[]\r\n",
    "for i in range(1000):\r\n",
    "    un_=un.copy()\r\n",
    "    un=diffusion_iteration_numba_p(un,f)\r\n",
    "    rel_error = np.linalg.norm(un_ - un, np.inf) / np.linalg.norm(un, np.inf)\r\n",
    "    error.append(rel_error)\r\n",
    "\r\n",
    "un2=un.copy()\r\n",
    "plt.plot(error)"
   ],
   "outputs": [
    {
     "output_type": "execute_result",
     "data": {
      "text/plain": [
       "[<matplotlib.lines.Line2D at 0x1e092bbbb50>]"
      ]
     },
     "metadata": {},
     "execution_count": 39
    },
    {
     "output_type": "display_data",
     "data": {
      "image/png": "[encoded data removed]",
      "text/plain": [
       "<Figure size 432x288 with 1 Axes>"
      ]
     },
     "metadata": {
      "needs_background": "light"
     }
    }
   ],
   "metadata": {}
  },
  {
   "cell_type": "code",
   "execution_count": 40,
   "source": [
    "np.linalg.norm(un1 - un2, np.inf) / np.linalg.norm(un2, np.inf)"
   ],
   "outputs": [
    {
     "output_type": "execute_result",
     "data": {
      "text/plain": [
       "0.0032153473500485053"
      ]
     },
     "metadata": {},
     "execution_count": 40
    }
   ],
   "metadata": {}
  },
  {
   "cell_type": "markdown",
   "source": [
    "### we can see different start configurations lead to convergence, and the convergence results tend to be the same."
   ],
   "metadata": {}
  },
  {
   "cell_type": "markdown",
   "source": [
    "# Assignment 2"
   ],
   "metadata": {}
  },
  {
   "cell_type": "code",
   "execution_count": 1,
   "source": [
    "import numpy as np\r\n",
    "import numba\r\n",
    "from numba import cuda\r\n",
    "import math"
   ],
   "outputs": [],
   "metadata": {}
  },
  {
   "cell_type": "code",
   "execution_count": 2,
   "source": [
    "SX=16\r\n",
    "SY=16\r\n",
    "ntargets = 50"
   ],
   "outputs": [],
   "metadata": {}
  },
  {
   "cell_type": "code",
   "execution_count": 3,
   "source": [
    "rand = np.random.RandomState(0)\r\n",
    "targets = rand.rand(ntargets,2)\r\n",
    "weights = rand.rand(ntargets)"
   ],
   "outputs": [],
   "metadata": {}
  },
  {
   "cell_type": "markdown",
   "source": [
    "## cpu version"
   ],
   "metadata": {}
  },
  {
   "cell_type": "code",
   "execution_count": 4,
   "source": [
    "@numba.njit(parallel=True)\r\n",
    "def evaluation_cpu(targets, weights, result):\r\n",
    "    \"\"\"Evaluate the RBF sum.\"\"\"\r\n",
    "    m = len(targets)\r\n",
    "    result[:] = 0\r\n",
    "    for index in numba.prange(m):\r\n",
    "        \r\n",
    "        result[index] = np.sum(np.where(np.sum(np.abs(targets[index] - targets), axis=1)!=0,np.log(np.sum(np.abs(targets[index] - targets), axis=1)),0) * weights)\r\n",
    "    \r\n",
    "    return result"
   ],
   "outputs": [],
   "metadata": {}
  },
  {
   "cell_type": "code",
   "execution_count": 5,
   "source": [
    "result_cpu = np.empty(ntargets, dtype=np.float64)\r\n",
    "evaluation_cpu(targets, weights, result_cpu)"
   ],
   "outputs": [
    {
     "output_type": "execute_result",
     "data": {
      "text/plain": [
       "array([-22.0077865 , -24.51184006, -22.96309229, -14.88161397,\n",
       "       -11.80159518, -17.65907083, -16.33363341,  -8.74111897,\n",
       "        -6.27547334, -11.07209073,  -8.03853981, -19.45024285,\n",
       "       -13.63236787,  -6.57334485, -23.43196026, -15.92928766,\n",
       "       -23.25328965, -10.01736775, -22.67577456, -11.56482082,\n",
       "       -22.34975388, -16.39751706, -20.26004412, -16.05304731,\n",
       "       -21.74223097, -23.96239619,  -8.28324292, -17.36458005,\n",
       "       -19.69854841, -21.746818  , -13.35758247, -19.1137826 ,\n",
       "       -17.58533569, -15.41727678, -13.64807858, -11.25923816,\n",
       "       -11.59110168, -14.2958261 , -18.61327976, -19.72073822,\n",
       "       -21.24495603, -11.51522826, -22.01429348, -18.16059993,\n",
       "       -15.09698615, -20.1873833 , -14.17585314, -18.11891403,\n",
       "       -15.50199255,  -9.54113495])"
      ]
     },
     "metadata": {},
     "execution_count": 5
    }
   ],
   "metadata": {}
  },
  {
   "cell_type": "markdown",
   "source": [
    "## gpu version"
   ],
   "metadata": {}
  },
  {
   "cell_type": "markdown",
   "source": [
    "### our kernel threadblocks is of size 16 x 16. Each threadblock evaluates its own local result, which is an array of size 16 and writes the result back into global memory. then create a second kernel that runs over the intermediate results and sums up the intermediate results into the final sum."
   ],
   "metadata": {}
  },
  {
   "cell_type": "code",
   "execution_count": 6,
   "source": [
    "@cuda.jit\r\n",
    "def evaluation_cuda(targets, weights, tmp):\r\n",
    "    local_result = cuda.shared.array((SX, SY), numba.float32)\r\n",
    "    local_targets = cuda.shared.array((SX, 2), numba.float32)\r\n",
    "    local_sources = cuda.shared.array((SY, 2), numba.float32)\r\n",
    "    local_weights = cuda.shared.array(SY, numba.float32)\r\n",
    "    \r\n",
    "    tx = cuda.threadIdx.x\r\n",
    "    ty = cuda.threadIdx.y\r\n",
    "    by = cuda.blockIdx.y\r\n",
    "    px,py= cuda.grid(2)\r\n",
    "    \r\n",
    "    if px >= targets.shape[0]:\r\n",
    "        return\r\n",
    "\r\n",
    "    \r\n",
    "    if ty == 0:\r\n",
    "        for index in range(2):\r\n",
    "            local_targets[tx, index] = targets[px, index]\r\n",
    "        \r\n",
    "    \r\n",
    "    if tx == 0:\r\n",
    "        for index in range(2):\r\n",
    "            local_sources[ty, index] = targets[py, index]\r\n",
    "        local_weights[ty] = weights[py]\r\n",
    "        \r\n",
    "    \r\n",
    "    cuda.syncthreads()\r\n",
    "    \r\n",
    "    \r\n",
    "    squared_diff = numba.float32(0)\r\n",
    "\r\n",
    "    for index in range(2):\r\n",
    "  \r\n",
    "        squared_diff += abs(local_targets[tx, index] - local_sources[ty, index])\r\n",
    "    if squared_diff==numba.float32(0):\r\n",
    "        local_result[tx, ty]=0\r\n",
    "    else:\r\n",
    "        local_result[tx, ty] = math.log(squared_diff)* local_weights[ty]\r\n",
    "    \r\n",
    "    cuda.syncthreads()\r\n",
    "    \r\n",
    "    if ty == 0:\r\n",
    "        res = numba.float32(0)\r\n",
    "        for index in range(SY):\r\n",
    "            res += local_result[tx, index]\r\n",
    "        tmp[px, by] = res\r\n",
    "\r\n",
    "\r\n",
    "@cuda.jit\r\n",
    "def sum_kernel(tmp, result, nblocks):\r\n",
    "    \"\"\"This kernel sums up all intermediate results.\"\"\"\r\n",
    "    \r\n",
    "    px = cuda.grid(1)\r\n",
    "    \r\n",
    "    if px >= result.shape[0]:\r\n",
    "        return\r\n",
    "    \r\n",
    "    local_result = numba.float32(0)\r\n",
    "    for index in range(nblocks):\r\n",
    "        local_result += tmp[px, index]\r\n",
    "    result[px] = local_result"
   ],
   "outputs": [],
   "metadata": {}
  },
  {
   "cell_type": "code",
   "execution_count": 7,
   "source": [
    "result_gpu = np.empty(ntargets, dtype=np.float32)\r\n",
    "def implement(targets,weights,result):\r\n",
    "    nblocks = (targets.shape[0] + SX - 1) // SX\r\n",
    "    targets_cuda = cuda.to_device(targets.astype('float32'))\r\n",
    "    weights_cuda = cuda.to_device(weights.astype('float32'))\r\n",
    "    tmp = cuda.device_array((ntargets, nblocks), dtype=np.float32)\r\n",
    "    result_gpu_ = cuda.device_array(targets.shape[0], dtype=np.float32)\r\n",
    "    evaluation_cuda[(nblocks, nblocks), (SX, SY)](targets_cuda, weights_cuda, tmp)\r\n",
    "    sum_kernel[(ntargets + 15) // 16, 16](tmp, result_gpu_, nblocks)\r\n",
    "    result_gpu_.copy_to_host(result)\r\n",
    "implement(targets,weights,result_gpu)"
   ],
   "outputs": [],
   "metadata": {}
  },
  {
   "cell_type": "markdown",
   "source": [
    "## validation"
   ],
   "metadata": {}
  },
  {
   "cell_type": "code",
   "execution_count": 8,
   "source": [
    "rel_error = np.linalg.norm(result_cpu - result_gpu) / np.linalg.norm(result_cpu)\r\n",
    "print(rel_error)"
   ],
   "outputs": [
    {
     "output_type": "stream",
     "name": "stdout",
     "text": [
      "7.12186304175228e-08\n"
     ]
    }
   ],
   "metadata": {}
  },
  {
   "cell_type": "markdown",
   "source": [
    "### the result shows that the cuda kernel returns the same result as the python version."
   ],
   "metadata": {}
  },
  {
   "cell_type": "markdown",
   "source": [
    "## benchmark"
   ],
   "metadata": {}
  },
  {
   "cell_type": "code",
   "execution_count": 10,
   "source": [
    "def benchmark(n):\r\n",
    "    \"\"\"Benchmark with n sources and n targets.\"\"\"\r\n",
    " \r\n",
    "    targets = rand.rand(n, 2)\r\n",
    "    weights = rand.rand(n)\r\n",
    "    ntargets=n\r\n",
    "    result_cpu = np.empty(n, dtype=np.float64)\r\n",
    "    result_gpu = np.empty(n, dtype=np.float32)\r\n",
    "    nblocks = (targets.shape[0] + SX - 1) // SX\r\n",
    "    print(\"CPU Timing:\")\r\n",
    "    %timeit evaluation_cpu(targets, weights, result_cpu)\r\n",
    "    \r\n",
    "    print(\"GPU Timing:\")\r\n",
    "    %timeit implement(targets,weights,result_gpu)\r\n",
    "    \r\n",
    "    print(\"Validation\")\r\n",
    "    rel_error = np.linalg.norm(result_cpu - result_gpu, np.inf) / np.linalg.norm(result_cpu, np.inf)\r\n",
    "    print(rel_error)\r\n",
    "\r\n",
    "print(\"Timing for dimension n = 100\")\r\n",
    "print(\"----------------------------\")\r\n",
    "benchmark(100)\r\n",
    "print(\"Timing for dimension n = 10000\")\r\n",
    "print(\"-----------------------------\")\r\n",
    "benchmark(10000)"
   ],
   "outputs": [
    {
     "output_type": "stream",
     "name": "stdout",
     "text": [
      "Timing for dimension n = 100\n",
      "----------------------------\n",
      "CPU Timing:\n",
      "185 µs ± 10.1 µs per loop (mean ± std. dev. of 7 runs, 1000 loops each)\n",
      "GPU Timing:\n",
      "1.29 ms ± 4.03 µs per loop (mean ± std. dev. of 7 runs, 1000 loops each)\n",
      "Validation\n",
      "1.186147216975131e-07\n",
      "Timing for dimension n = 10000\n",
      "-----------------------------\n",
      "CPU Timing:\n",
      "205 ms ± 5.26 ms per loop (mean ± std. dev. of 7 runs, 1 loop each)\n",
      "GPU Timing:\n",
      "8.36 ms ± 32.9 µs per loop (mean ± std. dev. of 7 runs, 100 loops each)\n",
      "Validation\n",
      "1.069779833122388e-06\n"
     ]
    }
   ],
   "metadata": {}
  },
  {
   "cell_type": "markdown",
   "source": [
    "### For small sizes the CPU is faster than GPU because setting cuda kernels has overhead, and this will spend more time when the computation is cheap. For larger sizes the GPU timing significantly outperforms the CPU timing."
   ],
   "metadata": {}
  },
  {
   "cell_type": "markdown",
   "source": [
    "# Assignment 3"
   ],
   "metadata": {}
  },
  {
   "cell_type": "code",
   "execution_count": 38,
   "source": [
    "import numpy as np\r\n",
    "import numba\r\n",
    "from numba import cuda\r\n",
    "from scipy.sparse.linalg import LinearOperator\r\n",
    "from scipy.sparse import random\r\n",
    "from matplotlib import pyplot as plt"
   ],
   "outputs": [],
   "metadata": {}
  },
  {
   "cell_type": "code",
   "execution_count": 31,
   "source": [
    "class csr_matrix_cuda(LinearOperator):\r\n",
    "\r\n",
    "\r\n",
    "    def __init__(self, data, indices, indptr, shape):\r\n",
    "\r\n",
    "        self._data = data\r\n",
    "        self._indices = indices\r\n",
    "        self._indptr = indptr\r\n",
    "        self.shape = shape\r\n",
    "        self.dtype = data.dtype\r\n",
    "\r\n",
    "    def _matvec(self, vec):\r\n",
    "\r\n",
    "        vec=cuda.to_device(vec.astype('float32'))\r\n",
    "        \r\n",
    "        res=cuda.device_array(self.shape[0], dtype=np.float32)\r\n",
    "        cud[(A.shape[0]+31)//32,32](vec, self._data ,self._indices,self._indptr, self.shape[0],res)\r\n",
    "        res_ = np.empty(self.shape[0], dtype=np.float32)\r\n",
    "        res.copy_to_host(res_)\r\n",
    "        return res\r\n",
    "\r\n",
    "@cuda.jit\r\n",
    "def cud(vec, data, indices, indptr, nrows,res):\r\n",
    "\r\n",
    "    px= cuda.grid(1)\r\n",
    "\r\n",
    "    if px>=nrows:\r\n",
    "        return\r\n",
    "    tmp=numba.float32(0)\r\n",
    "    for index in range(indptr[px], indptr[px + 1]):\r\n",
    "        col_index = indices[index]\r\n",
    "        tmp += data[index] * vec[col_index]\r\n",
    "    res[px]=tmp"
   ],
   "outputs": [],
   "metadata": {}
  },
  {
   "cell_type": "markdown",
   "source": [
    "## Validation"
   ],
   "metadata": {}
  },
  {
   "cell_type": "markdown",
   "source": [
    "### we use the discretise_poisson result to validate our results."
   ],
   "metadata": {}
  },
  {
   "cell_type": "code",
   "execution_count": 14,
   "source": [
    "from scipy.sparse import coo_matrix\r\n",
    "\r\n",
    "def discretise_poisson(N):\r\n",
    "    \"\"\"Generate the matrix and rhs associated with the discrete Poisson operator.\"\"\"\r\n",
    "    \r\n",
    "    nelements = 5 * N**2 - 16 * N + 16\r\n",
    "    \r\n",
    "    row_ind = np.empty(nelements, dtype=np.float64)\r\n",
    "    col_ind = np.empty(nelements, dtype=np.float64)\r\n",
    "    data = np.empty(nelements, dtype=np.float64)\r\n",
    "    \r\n",
    "    f = np.empty(N * N, dtype=np.float64)\r\n",
    "    \r\n",
    "    count = 0\r\n",
    "    for j in range(N):\r\n",
    "        for i in range(N):\r\n",
    "            if i == 0 or i == N - 1 or j == 0 or j == N - 1:\r\n",
    "                row_ind[count] = col_ind[count] = j * N + i\r\n",
    "                data[count] =  1\r\n",
    "                f[j * N + i] = 0\r\n",
    "                count += 1\r\n",
    "                \r\n",
    "            else:\r\n",
    "                row_ind[count : count + 5] = j * N + i\r\n",
    "                col_ind[count] = j * N + i\r\n",
    "                col_ind[count + 1] = j * N + i + 1\r\n",
    "                col_ind[count + 2] = j * N + i - 1\r\n",
    "                col_ind[count + 3] = (j + 1) * N + i\r\n",
    "                col_ind[count + 4] = (j - 1) * N + i\r\n",
    "                                \r\n",
    "                data[count] = 4 * (N - 1)**2\r\n",
    "                data[count + 1 : count + 5] = - (N - 1)**2\r\n",
    "                f[j * N + i] = 1\r\n",
    "                \r\n",
    "                count += 5\r\n",
    "                                                \r\n",
    "    return coo_matrix((data, (row_ind, col_ind)), shape=(N**2, N**2)).tocsr(), f"
   ],
   "outputs": [],
   "metadata": {}
  },
  {
   "cell_type": "code",
   "execution_count": 15,
   "source": [
    "N = 2000\r\n",
    "A, _ = discretise_poisson(N)\r\n",
    "rand = np.random.RandomState(0)\r\n",
    "x = rand.randn(N * N)"
   ],
   "outputs": [],
   "metadata": {}
  },
  {
   "cell_type": "code",
   "execution_count": 33,
   "source": [
    "A_data=cuda.to_device(A.data.astype('float32'))\r\n",
    "A_ind=cuda.to_device(A.indices.astype('int64'))\r\n",
    "A_ptr=cuda.to_device(A.indptr.astype('int64'))\r\n",
    "test=csr_matrix_cuda(A_data,A_ind,A_ptr,A.shape)"
   ],
   "outputs": [],
   "metadata": {}
  },
  {
   "cell_type": "code",
   "execution_count": 34,
   "source": [
    "print('cuda:')\r\n",
    "%timeit res_=test._matvec(x)\r\n",
    "print('standard:')\r\n",
    "%timeit y=A@x\r\n",
    "res_=test._matvec(x)\r\n",
    "y=A@x\r\n",
    "rel_error = np.linalg.norm(res_ - y, np.inf) / np.linalg.norm(y, np.inf)\r\n",
    "print(f\"Error: {rel_error}\")"
   ],
   "outputs": [
    {
     "output_type": "stream",
     "name": "stdout",
     "text": [
      "cuda:\n",
      "20.4 ms ± 1.89 ms per loop (mean ± std. dev. of 7 runs, 10 loops each)\n",
      "standard:\n",
      "26.4 ms ± 1.1 ms per loop (mean ± std. dev. of 7 runs, 10 loops each)\n",
      "Error: 1.3245489616228246e-07\n"
     ]
    }
   ],
   "metadata": {}
  },
  {
   "cell_type": "markdown",
   "source": [
    "### we can see that our implementation is faster than the standard multiplication, and the result is the same."
   ],
   "metadata": {}
  },
  {
   "cell_type": "markdown",
   "source": [
    "## benchmark"
   ],
   "metadata": {}
  },
  {
   "cell_type": "code",
   "execution_count": 35,
   "source": [
    "dens=[0.2,0.4,0.6,0.8]\r\n",
    "N_=[100,1000,10000]"
   ],
   "outputs": [],
   "metadata": {}
  },
  {
   "cell_type": "code",
   "execution_count": 40,
   "source": [
    "for N in N_: \r\n",
    "    print(f'matrix size: {N}')\r\n",
    "    t1=[]\r\n",
    "    t2=[]\r\n",
    "    for density in dens:\r\n",
    "        S=random(N,N,density=density)\r\n",
    "        A=coo_matrix(S.A).tocsr()\r\n",
    "        x=np.ones(N)\r\n",
    "        print(f'density:{density:.1f}')\r\n",
    "        print('standard matrix multiplication:')\r\n",
    "        t_1= %timeit -o A@x\r\n",
    "        print('cuda matrix multiplication:')\r\n",
    "        A_data=cuda.to_device(A.data.astype('float32'))\r\n",
    "        A_ind=cuda.to_device(A.indices.astype('int64'))\r\n",
    "        A_ptr=cuda.to_device(A.indptr.astype('int64'))\r\n",
    "        test=csr_matrix_cuda(A_data,A_ind,A_ptr,A.shape)\r\n",
    "        t_2=%timeit -o test._matvec(x)\r\n",
    "        t1.append(t_1.average)\r\n",
    "        t2.append(t_2.average)\r\n",
    "    plt.plot(dens,t1,color='g',label='standard')\r\n",
    "    plt.plot(dens,t2,color='b',label='cuda')\r\n",
    "    plt.title(f'N={N}')\r\n",
    "    plt.xlabel('density')\r\n",
    "    plt.legend()\r\n",
    "    plt.show()\r\n",
    "    "
   ],
   "outputs": [
    {
     "output_type": "stream",
     "name": "stdout",
     "text": [
      "matrix size: 100\n",
      "density:0.2\n",
      "standard matrix multiplication:\n",
      "6.1 µs ± 150 ns per loop (mean ± std. dev. of 7 runs, 100000 loops each)\n",
      "cuda matrix multiplication:\n",
      "705 µs ± 7.51 µs per loop (mean ± std. dev. of 7 runs, 1000 loops each)\n",
      "density:0.4\n",
      "standard matrix multiplication:\n",
      "7.58 µs ± 132 ns per loop (mean ± std. dev. of 7 runs, 100000 loops each)\n",
      "cuda matrix multiplication:\n",
      "712 µs ± 10.9 µs per loop (mean ± std. dev. of 7 runs, 1000 loops each)\n",
      "density:0.6\n",
      "standard matrix multiplication:\n",
      "9.36 µs ± 79.5 ns per loop (mean ± std. dev. of 7 runs, 100000 loops each)\n",
      "cuda matrix multiplication:\n",
      "716 µs ± 11.6 µs per loop (mean ± std. dev. of 7 runs, 1000 loops each)\n",
      "density:0.8\n",
      "standard matrix multiplication:\n",
      "11.5 µs ± 110 ns per loop (mean ± std. dev. of 7 runs, 100000 loops each)\n",
      "cuda matrix multiplication:\n",
      "718 µs ± 7.48 µs per loop (mean ± std. dev. of 7 runs, 1000 loops each)\n"
     ]
    },
    {
     "output_type": "display_data",
     "data": {
      "image/png": "[encoded data removed]",
      "text/plain": [
       "<Figure size 432x288 with 1 Axes>"
      ]
     },
     "metadata": {
      "needs_background": "light"
     }
    },
    {
     "output_type": "stream",
     "name": "stdout",
     "text": [
      "matrix size: 1000\n",
      "density:0.2\n",
      "standard matrix multiplication:\n",
      "180 µs ± 3.81 µs per loop (mean ± std. dev. of 7 runs, 10000 loops each)\n",
      "cuda matrix multiplication:\n",
      "725 µs ± 4 µs per loop (mean ± std. dev. of 7 runs, 1000 loops each)\n",
      "density:0.4\n",
      "standard matrix multiplication:\n",
      "362 µs ± 1.83 µs per loop (mean ± std. dev. of 7 runs, 1000 loops each)\n",
      "cuda matrix multiplication:\n",
      "791 µs ± 5.63 µs per loop (mean ± std. dev. of 7 runs, 1000 loops each)\n",
      "density:0.6\n",
      "standard matrix multiplication:\n",
      "562 µs ± 11.3 µs per loop (mean ± std. dev. of 7 runs, 1000 loops each)\n",
      "cuda matrix multiplication:\n",
      "827 µs ± 2.61 µs per loop (mean ± std. dev. of 7 runs, 1000 loops each)\n",
      "density:0.8\n",
      "standard matrix multiplication:\n",
      "751 µs ± 5.3 µs per loop (mean ± std. dev. of 7 runs, 1000 loops each)\n",
      "cuda matrix multiplication:\n",
      "870 µs ± 6.45 µs per loop (mean ± std. dev. of 7 runs, 1000 loops each)\n"
     ]
    },
    {
     "output_type": "display_data",
     "data": {
      "image/png": "[encoded data removed]",
      "text/plain": [
       "<Figure size 432x288 with 1 Axes>"
      ]
     },
     "metadata": {
      "needs_background": "light"
     }
    },
    {
     "output_type": "stream",
     "name": "stdout",
     "text": [
      "matrix size: 10000\n",
      "density:0.2\n",
      "standard matrix multiplication:\n",
      "21.7 ms ± 215 µs per loop (mean ± std. dev. of 7 runs, 10 loops each)\n",
      "cuda matrix multiplication:\n",
      "3.95 ms ± 11.8 µs per loop (mean ± std. dev. of 7 runs, 100 loops each)\n",
      "density:0.4\n",
      "standard matrix multiplication:\n",
      "43.5 ms ± 975 µs per loop (mean ± std. dev. of 7 runs, 10 loops each)\n",
      "cuda matrix multiplication:\n",
      "8.07 ms ± 167 µs per loop (mean ± std. dev. of 7 runs, 100 loops each)\n",
      "density:0.6\n",
      "standard matrix multiplication:\n",
      "64.8 ms ± 585 µs per loop (mean ± std. dev. of 7 runs, 10 loops each)\n",
      "cuda matrix multiplication:\n",
      "12.1 ms ± 379 µs per loop (mean ± std. dev. of 7 runs, 100 loops each)\n",
      "density:0.8\n",
      "standard matrix multiplication:\n",
      "86.5 ms ± 765 µs per loop (mean ± std. dev. of 7 runs, 10 loops each)\n",
      "cuda matrix multiplication:\n",
      "16.4 ms ± 378 µs per loop (mean ± std. dev. of 7 runs, 100 loops each)\n"
     ]
    },
    {
     "output_type": "display_data",
     "data": {
      "image/png": "[encoded data removed]",
      "text/plain": [
       "<Figure size 432x288 with 1 Axes>"
      ]
     },
     "metadata": {
      "needs_background": "light"
     }
    }
   ],
   "metadata": {}
  },
  {
   "cell_type": "markdown",
   "source": [
    "### we can see that for small N, the cuda implementation is slower because of its overhead. For large N, the cuda implementation is much faster than the standard multiplication. The computation time increases as the density increases, which is also expected."
   ],
   "metadata": {}
  },
  {
   "cell_type": "markdown",
   "source": [
    "# Assignment 4"
   ],
   "metadata": {}
  },
  {
   "cell_type": "code",
   "execution_count": 43,
   "source": [
    "import numpy as np\r\n",
    "import numba\r\n",
    "import matplotlib.pyplot as plt\r\n",
    "from scipy import sparse\r\n",
    "from scipy.sparse import csr_matrix\r\n",
    "from scipy.sparse.linalg import eigs, LinearOperator, cg, bicgstab, gmres, spsolve\r\n",
    "from scipy.linalg import solve\r\n",
    "import time"
   ],
   "outputs": [],
   "metadata": {}
  },
  {
   "cell_type": "code",
   "execution_count": 92,
   "source": [
    "true_value = 0.424011387033"
   ],
   "outputs": [],
   "metadata": {}
  },
  {
   "cell_type": "markdown",
   "source": [
    "We have to solve the equation:  \r\n",
    "\r\n",
    "$ \\frac{\\partial f}{\\partial t} =  \\frac{\\partial^2 f}{\\partial x^2} + \\frac{\\partial^2 f}{\\partial y^2} $\r\n",
    "\r\n",
    "In this case, our boundary conditions are: \r\n",
    "\r\n",
    "at $t<0$, $f(x, y, t) = 0$, \r\n",
    "\r\n",
    "for $t \\geq 0$, $f(-1, y, t) = f(x, \\pm 1, t) = 0$.\r\n",
    "\r\n",
    " \r\n",
    "\r\n",
    "We are looking at the time $t^*$, where $f(0, 0, t^*) = 1$ is the most precise result.\r\n"
   ],
   "metadata": {}
  },
  {
   "cell_type": "markdown",
   "source": [
    "## explicit time-stepping"
   ],
   "metadata": {}
  },
  {
   "cell_type": "markdown",
   "source": [
    "### forward Euler"
   ],
   "metadata": {}
  },
  {
   "cell_type": "code",
   "execution_count": 100,
   "source": [
    "@numba.njit\r\n",
    "def forward_matrix(N, dx, dt):\r\n",
    "    row = []\r\n",
    "    col = []\r\n",
    "    data = []   \r\n",
    "    \r\n",
    "    for i in np.arange(N**2):\r\n",
    "        if (i%N==0) or (i%N==N-1) or (i//N==0) or (i//N==N-1): \r\n",
    "            row.append(i)\r\n",
    "            col.append(i)\r\n",
    "            data.append(1)\r\n",
    "        else:\r\n",
    "            row.append(i)\r\n",
    "            col.append(i)\r\n",
    "            data.append(-4*dt/(dx*dx)+1)\r\n",
    "\r\n",
    "            row.append(i)\r\n",
    "            col.append(i-1)\r\n",
    "            data.append(dt/(dx*dx))\r\n",
    "\r\n",
    "            row.append(i)\r\n",
    "            col.append(i+1)\r\n",
    "            data.append(dt/(dx*dx))\r\n",
    "\r\n",
    "            row.append(i)\r\n",
    "            col.append(i-N)\r\n",
    "            data.append(dt/(dx*dx))\r\n",
    "\r\n",
    "            row.append(i)\r\n",
    "            col.append(i+N)\r\n",
    "            data.append(dt/(dx*dx))       \r\n",
    "    return np.float64(data), row, col\r\n",
    "\r\n",
    "def forward_euler(N,dt):\r\n",
    "    dx = np.float64(2/(N-1))\r\n",
    "    val = 0\r\n",
    "    iters = 0\r\n",
    "    data,row,col=forward_matrix(N, dx, dt)\r\n",
    "    A = sparse.coo_matrix((data,(row,col)), shape=(N**2, N**2), dtype = np.float64).tocsr()\r\n",
    "    grid = np.zeros((N,N), dtype = np.float64)\r\n",
    "    grid[:,N-1] = np.ones(N)*5\r\n",
    "    grid_ = np.zeros(N**2)\r\n",
    "    grid_[:N] = 5\r\n",
    "    \r\n",
    "    while grid_[(N*N)//2] < 1:\r\n",
    "        val += dt\r\n",
    "        iters += 1\r\n",
    "        grid_ = A.dot(grid_)\r\n",
    "\r\n",
    "    return val, val - true_value, iters"
   ],
   "outputs": [],
   "metadata": {}
  },
  {
   "cell_type": "markdown",
   "source": [
    "## benchmark"
   ],
   "metadata": {}
  },
  {
   "cell_type": "code",
   "execution_count": 101,
   "source": [
    "testN = [9, 17, 31, 51, 91]\r\n",
    "dt = 1e-5\r\n",
    "errors = []\r\n",
    "\r\n",
    "for N in testN:\r\n",
    "    res = forward_euler(N, dt)\r\n",
    "    errors.append(res[1])"
   ],
   "outputs": [],
   "metadata": {}
  },
  {
   "cell_type": "code",
   "execution_count": 102,
   "source": [
    "plt.plot(testN,errors)"
   ],
   "outputs": [
    {
     "output_type": "execute_result",
     "data": {
      "text/plain": [
       "[<matplotlib.lines.Line2D at 0x16d2f42d7f0>]"
      ]
     },
     "metadata": {},
     "execution_count": 102
    },
    {
     "output_type": "display_data",
     "data": {
      "image/png": "[encoded data removed]",
      "text/plain": [
       "<Figure size 432x288 with 1 Axes>"
      ]
     },
     "metadata": {
      "needs_background": "light"
     }
    }
   ],
   "metadata": {}
  },
  {
   "cell_type": "code",
   "execution_count": 103,
   "source": [
    "res[0]"
   ],
   "outputs": [
    {
     "output_type": "execute_result",
     "data": {
      "text/plain": [
       "0.42401000000028327"
      ]
     },
     "metadata": {},
     "execution_count": 103
    }
   ],
   "metadata": {}
  },
  {
   "cell_type": "markdown",
   "source": [
    "### we get 5 digits correct here"
   ],
   "metadata": {}
  },
  {
   "cell_type": "markdown",
   "source": [
    "## impliclit time-stepping"
   ],
   "metadata": {}
  },
  {
   "cell_type": "markdown",
   "source": [
    "### backward Euler"
   ],
   "metadata": {}
  },
  {
   "cell_type": "code",
   "execution_count": 105,
   "source": [
    "@numba.njit\r\n",
    "def backward_matrix(N, dx, dt):\r\n",
    "\r\n",
    "    row = []\r\n",
    "    col = []\r\n",
    "    data = []   \r\n",
    "    \r\n",
    "    for i in np.arange(N**2):\r\n",
    "        if (i%N==0) or (i%N==N-1) or (i//N==0) or (i//N==N-1): \r\n",
    "            row.append(i)\r\n",
    "            col.append(i)\r\n",
    "            data.append(1)\r\n",
    "\r\n",
    "        else:\r\n",
    "            row.append(i)\r\n",
    "            col.append(i)\r\n",
    "            data.append(4*dt/(dx*dx) + 1)\r\n",
    "            \r\n",
    "            row.append(i)\r\n",
    "            col.append(i-1)\r\n",
    "            data.append(-dt/(dx*dx))\r\n",
    " \r\n",
    "            row.append(i)\r\n",
    "            col.append(i+1)\r\n",
    "            data.append(-dt/(dx*dx))\r\n",
    "\r\n",
    "            row.append(i)\r\n",
    "            col.append(i-N)\r\n",
    "            data.append(-dt/(dx*dx))\r\n",
    "   \r\n",
    "            row.append(i)\r\n",
    "            col.append(i+N)\r\n",
    "            data.append(-dt/(dx*dx))\r\n",
    "            \r\n",
    "    return np.float64(data), row, col"
   ],
   "outputs": [],
   "metadata": {}
  },
  {
   "cell_type": "code",
   "execution_count": 106,
   "source": [
    "def backward_euler(N,dt):\r\n",
    "    dx = np.float64(2/(N-1))\r\n",
    "    val = 0\r\n",
    "    iters = 0\r\n",
    "    data,row,col=backward_matrix(N, dx, dt)\r\n",
    "    A = sparse.coo_matrix((data,(row,col)), shape=(N**2, N**2), dtype = np.float64).tocsr()\r\n",
    "    grid = np.zeros((N,N), dtype = np.float64)\r\n",
    "    grid[:,N-1] = np.ones(N)*5\r\n",
    "    grid_ = np.zeros(N**2)\r\n",
    "    grid_[:N] = 5\r\n",
    "    \r\n",
    "    while grid_[(N*N)//2] < 1:\r\n",
    "        val += dt\r\n",
    "        iters += 1\r\n",
    "        grid_=spsolve(A, grid_)\r\n",
    "\r\n",
    "    return val, val - true_value, iters"
   ],
   "outputs": [],
   "metadata": {}
  },
  {
   "cell_type": "markdown",
   "source": [
    "## benchmark"
   ],
   "metadata": {}
  },
  {
   "cell_type": "code",
   "execution_count": null,
   "source": [
    "errors = []\r\n",
    "for N in testN:\r\n",
    "    res = backward_euler(N, dt)\r\n",
    "    errors.append(res[1])"
   ],
   "outputs": [],
   "metadata": {}
  },
  {
   "cell_type": "code",
   "execution_count": null,
   "source": [
    "plt.plot(testN,errors)"
   ],
   "outputs": [],
   "metadata": {}
  },
  {
   "cell_type": "code",
   "execution_count": 60,
   "source": [
    "res[0]"
   ],
   "outputs": [
    {
     "output_type": "execute_result",
     "data": {
      "text/plain": [
       "(0.4240300000002833, 1.8612967283282433e-05, 42403)"
      ]
     },
     "metadata": {},
     "execution_count": 60
    }
   ],
   "metadata": {}
  }
 ],
 "metadata": {
  "orig_nbformat": 4,
  "language_info": {
   "name": "python",
   "version": "3.8.3",
   "mimetype": "text/x-python",
   "codemirror_mode": {
    "name": "ipython",
    "version": 3
   },
   "pygments_lexer": "ipython3",
   "nbconvert_exporter": "python",
   "file_extension": ".py"
  },
  "kernelspec": {
   "name": "python3",
   "display_name": "Python 3.8.3 64-bit ('base': conda)"
  },
  "interpreter": {
   "hash": "e46a312f18d66f7c51dddd93e62c13ef1a00dedabbfab58bbf9c547c81fcfc71"
  }
 },
 "nbformat": 4,
 "nbformat_minor": 2
}